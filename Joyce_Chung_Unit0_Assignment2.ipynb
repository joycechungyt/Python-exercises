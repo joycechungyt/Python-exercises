{
 "cells": [
  {
   "cell_type": "markdown",
   "id": "0eda41ee-f6a9-4776-bc79-3dd1f467f064",
   "metadata": {},
   "source": [
    "Define a function named up_down that takes a single number as its parameter. Your function return a tuple containing two numbers; the first should be one lower than the parameter, and the second should be one higher.\n",
    "For example, calling up_down(5) should return (4, 6)."
   ]
  },
  {
   "cell_type": "code",
   "execution_count": null,
   "id": "063df9b3-fd9a-4fdc-9257-760a4e6f8ee2",
   "metadata": {},
   "outputs": [],
   "source": [
    "def up_down(int):\n",
    "    return (int-1, int+1)\n",
    "\n",
    "\n",
    "up_down(1)"
   ]
  },
  {
   "cell_type": "markdown",
   "id": "d12345c0-f648-4c52-9d7e-22dc137c22dc",
   "metadata": {},
   "source": [
    "The goal of this challenge is to analyze a binary string consisting of only zeros and ones. Your code should find the biggest number of consecutive zeros in the string. For example, given the string:\n",
    "\"1001101000110\"\n",
    "The biggest number of consecutive zeros is 3.\n",
    "Define a function named consecutive_zeros that takes a single parameter, which is the string of zeros and ones. Your function should return the number described above."
   ]
  },
  {
   "cell_type": "code",
   "execution_count": null,
   "id": "99cca2b1-3440-4d11-ac34-5089a8c6dca3",
   "metadata": {},
   "outputs": [],
   "source": [
    "def consecutive_zeros(str):\n",
    "    zeros = 0\n",
    "    count = 0\n",
    "    for i in range(len(str)-1):\n",
    "        if str[i] == \"0\":\n",
    "            zeros += 1\n",
    "        elif str[i] == \"1\":\n",
    "            if zeros>count:\n",
    "                count = zeros \n",
    "            zeros = 0 \n",
    "    return count \n",
    "\n",
    "consecutive_zeros(\"100011010000110\")"
   ]
  },
  {
   "cell_type": "markdown",
   "id": "1be5bbac-ba08-49e2-bf7c-5186beee3967",
   "metadata": {},
   "source": [
    "Define a function named all_equal that takes a list and checks whether all elements in the list are the same.\n",
    "For example, calling all_equal([1, 1, 1]) should return True.\n"
   ]
  },
  {
   "cell_type": "code",
   "execution_count": 6,
   "id": "da85059e-b7cd-440f-8d45-e5e8a7b2a133",
   "metadata": {},
   "outputs": [
    {
     "data": {
      "text/plain": [
       "False"
      ]
     },
     "execution_count": 6,
     "metadata": {},
     "output_type": "execute_result"
    }
   ],
   "source": [
    "def all_equal(*list):\n",
    "    # if list[0:] == list[:-1]:\n",
    "    if all(x==list[0] for x in list):\n",
    "        return True \n",
    "    else:\n",
    "        return False\n",
    "\n",
    "all_equal(2,2,8,2,2)"
   ]
  },
  {
   "cell_type": "markdown",
   "id": "d53d8c3a-78ee-4d8a-9a8d-6203ac9e7352",
   "metadata": {},
   "source": [
    "Define a function named triple_and that takes three parameters and returns True only if they are all True and False otherwise."
   ]
  },
  {
   "cell_type": "code",
   "execution_count": 12,
   "id": "c9bd13c4-e81c-4eff-9a9c-5dcb5d877e72",
   "metadata": {},
   "outputs": [
    {
     "data": {
      "text/plain": [
       "True"
      ]
     },
     "execution_count": 12,
     "metadata": {},
     "output_type": "execute_result"
    }
   ],
   "source": [
    "def triple_and(para1, para2, para3):\n",
    "    if para1 == para2== para3 and para1 == True:\n",
    "        return True\n",
    "    else: \n",
    "        return False \n",
    "\n",
    "triple_and(True, True, True)"
   ]
  },
  {
   "cell_type": "markdown",
   "id": "69231907-9a0e-4027-8b50-e4a013282701",
   "metadata": {},
   "source": [
    "Define a function named convert that takes a list of numbers as its only parameter and returns a list of each number converted to a string.\n",
    "For example, the call convert([1, 2, 3]) should return [\"1\", \"2\", \"3\"].\n",
    "What makes this tricky is that your function body must only contain a single line of code.\n"
   ]
  },
  {
   "cell_type": "code",
   "execution_count": 24,
   "id": "3fedbbff-2d8f-4277-a824-5fe3384782cc",
   "metadata": {},
   "outputs": [
    {
     "name": "stdout",
     "output_type": "stream",
     "text": [
      "['1', '2', '3', '4', '5', '6']\n"
     ]
    }
   ],
   "source": [
    "int_list = [1,2,3,4,5,6]\n",
    "\n",
    "def convert(int_list): return [str(n) for n in int_list]\n",
    "\n",
    "print(convert(int_list))"
   ]
  },
  {
   "cell_type": "markdown",
   "id": "1e29d00c-7218-4920-808b-2410259bd008",
   "metadata": {},
   "source": [
    "The built-in zip function \"zips\" two lists. Write your own implementation of this function.\n",
    "Define a function named zap. The function takes two parameters, a and b. These are lists.\n",
    "Your function should return a list of tuples. Each tuple should contain one item from the a list and one from b.\n",
    "You may assume a and b have equal lengths.\n",
    "If you don't get it, think of a zipper.\n",
    "For example:\n",
    "zap(\n",
    "    [0, 1, 2, 3],\n",
    "    [5, 6, 7, 8]\n",
    ")\n",
    "Should return:\n",
    "[(0, 5),\n",
    " (1, 6),\n",
    " (2, 7),\n",
    " (3, 8)]\n"
   ]
  },
  {
   "cell_type": "code",
   "execution_count": 48,
   "id": "0b496ea6-98d8-4d54-ae03-ef44a479f8af",
   "metadata": {},
   "outputs": [
    {
     "data": {
      "text/plain": [
       "[(0, 5), (1, 6), (2, 7), (3, 8)]"
      ]
     },
     "execution_count": 48,
     "metadata": {},
     "output_type": "execute_result"
    }
   ],
   "source": [
    "def zap(a, b): \n",
    "  zap_list = []\n",
    "  for i in range(len(a)):\n",
    "        zap_list.append((a[i], b[i]))\n",
    "  return zap_list\n",
    "\n",
    "zap([0,1,2,3],[5,6,7,8])"
   ]
  },
  {
   "cell_type": "markdown",
   "id": "7ecaea01-21c4-4fbf-be30-deeb2770be8b",
   "metadata": {},
   "source": [
    "The aim of this challenge is to write code that can analyze code submissions. We'll simplify things a lot to not make this too hard.\n",
    "Write a function named validate that takes code represented as a string as its only parameter.\n",
    "Your function should check a few things:\n",
    "•\tthe code must contain the def keyword\n",
    "o\totherwise return \"missing def\"\n",
    "•\tthe code must contain the : symbol\n",
    "o\totherwise return \"missing :\"\n",
    "•\tthe code must contain ( and ) for the parameter list\n",
    "o\totherwise return \"missing paren\"\n",
    "•\tthe code must not contain ()\n",
    "o\totherwise return \"missing param\"\n",
    "•\tthe code must contain four spaces for indentation\n",
    "o\totherwise return \"missing indent\"\n",
    "•\tthe code must contain validate\n",
    "o\totherwise return \"wrong name\"\n",
    "•\tthe code must contain a return statement\n",
    "o\totherwise return \"missing return\"\n",
    "If all these conditions are satisfied, your code should return True.\n",
    "Here comes the twist: your solution must return True when validating itself.\n"
   ]
  },
  {
   "cell_type": "code",
   "execution_count": 60,
   "id": "53074f38-4f0c-42ae-adbc-dddf720bd7f5",
   "metadata": {},
   "outputs": [
    {
     "data": {
      "text/plain": [
       "True"
      ]
     },
     "execution_count": 60,
     "metadata": {},
     "output_type": "execute_result"
    }
   ],
   "source": [
    "def validate(str):\n",
    "        if \"def\" not in str:\n",
    "            return print(\"missing def\")\n",
    "        if \":\" not in str:\n",
    "            return print(\"missing :\")\n",
    "        if \"(\" and  \")\" not in str: #code must contain ( and ) for the parameter list \n",
    "            return print(\"missing paren\")\n",
    "        if \"()\" in str:\n",
    "            return print(\"missing param\")    \n",
    "        if \"    \" not in str: #code must contain four spaces for indentation\n",
    "            return print(\"missing indent\")\n",
    "        if \"validate\" not in str:\n",
    "            return print(\"wrong name\")\n",
    "        if \"return\" not in str: \n",
    "            return print(\"missing return\")\n",
    "        return True\n",
    "\n",
    "validate(\"(def:)    return validate\")\n",
    "\n",
    "#no need to add \"else\""
   ]
  },
  {
   "cell_type": "markdown",
   "id": "c50ece2b-ceb0-484f-9ecd-c0a2a025f53b",
   "metadata": {},
   "source": [
    "Define a function named list_xor. Your function should take three parameters: n, list1 and list2.\n",
    "Your function must return whether n is exclusively in list1 or list2.\n",
    "In other words, if n is in both lists or in none of the lists, return False. If n is in only one of the lists, return True.\n",
    "For example:\n",
    "list_xor(1, [1, 2, 3], [4, 5, 6]) == True\n",
    "list_xor(1, [0, 2, 3], [1, 5, 6]) == True\n",
    "list_xor(1, [1, 2, 3], [1, 5, 6]) == False\n",
    "list_xor(1, [0, 0, 0], [4, 5, 6]) == False\n"
   ]
  },
  {
   "cell_type": "code",
   "execution_count": 62,
   "id": "fa5b1b9d-2671-41bb-a090-f58406c82db8",
   "metadata": {},
   "outputs": [
    {
     "data": {
      "text/plain": [
       "True"
      ]
     },
     "execution_count": 62,
     "metadata": {},
     "output_type": "execute_result"
    }
   ],
   "source": [
    "def list_xor(n, list1, list2):\n",
    "    if n in list1 and n in list2:\n",
    "        return False\n",
    "    if n not in list1 and n not in list2:\n",
    "        return False \n",
    "    if n in list1 or list2:\n",
    "        return True \n",
    "#check if n is exclusively in list1 or list2.\n",
    "\n",
    "list_xor(6,[0,2,0], [1,5,6])"
   ]
  },
  {
   "cell_type": "markdown",
   "id": "1142ea56-fafc-4795-b8e1-fb8fd43f8134",
   "metadata": {},
   "source": [
    "Define a function param_count that takes a variable number of parameters. The function should return the number of arguments it was called with.\n",
    "For example, param_count() should return 0, while param_count(2, 3, 4) should return 3.\n"
   ]
  },
  {
   "cell_type": "code",
   "execution_count": 65,
   "id": "c9ba3a50-e70c-4ffd-bbdf-f49917bb90e0",
   "metadata": {},
   "outputs": [
    {
     "data": {
      "text/plain": [
       "4"
      ]
     },
     "execution_count": 65,
     "metadata": {},
     "output_type": "execute_result"
    }
   ],
   "source": [
    "def param_count(*args):\n",
    "    return (len(args))\n",
    "\n",
    "param_count(0,5,10,1)"
   ]
  },
  {
   "cell_type": "markdown",
   "id": "87918e83-650f-42b6-8bb3-11dd961422b2",
   "metadata": {},
   "source": [
    "Write a function named format_number that takes a non-negative number as its only parameter.\n",
    "Your function should convert the number to a string and add commas as a thousands separator.\n",
    "For example, calling format_number(1000000) should return \"1,000,000\".\n"
   ]
  },
  {
   "cell_type": "code",
   "execution_count": 69,
   "id": "06674395-e0c5-49bb-82bb-ee445c98e9bd",
   "metadata": {},
   "outputs": [
    {
     "data": {
      "text/plain": [
       "'1,000,000,000'"
      ]
     },
     "execution_count": 69,
     "metadata": {},
     "output_type": "execute_result"
    }
   ],
   "source": [
    "def format_number(pos_int):\n",
    "    if pos_int < 0:\n",
    "        return print(\"pos_int cannot be 0\")\n",
    "    else:\n",
    "        return str(\"{:,}\".format(pos_int))      #the thousand comma separator is written like this\"{:,}\".format()\"\n",
    "\n",
    "format_number(1000000000)"
   ]
  },
  {
   "cell_type": "code",
   "execution_count": null,
   "id": "cf599472-3da4-45ef-98e2-f5d3bd88b5f3",
   "metadata": {},
   "outputs": [],
   "source": []
  }
 ],
 "metadata": {
  "kernelspec": {
   "display_name": "Python 3 (ipykernel)",
   "language": "python",
   "name": "python3"
  },
  "language_info": {
   "codemirror_mode": {
    "name": "ipython",
    "version": 3
   },
   "file_extension": ".py",
   "mimetype": "text/x-python",
   "name": "python",
   "nbconvert_exporter": "python",
   "pygments_lexer": "ipython3",
   "version": "3.10.11"
  }
 },
 "nbformat": 4,
 "nbformat_minor": 5
}
