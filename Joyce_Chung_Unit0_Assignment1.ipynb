{
 "cells": [
  {
   "cell_type": "markdown",
   "id": "0a1c64c5-db74-4766-86b8-df9e93fcf0ae",
   "metadata": {},
   "source": [
    "Write a function named capital_indexes. The function takes a single parameter, which is a string. Your function should return a list of all the indexes in the string that have capital letters.\n",
    "For example, calling capital_indexes(\"HeLlO\") should return the list [0, 2, 4]."
   ]
  },
  {
   "cell_type": "code",
   "execution_count": 84,
   "id": "f7fc5c27-a8f2-43d0-8f55-2c656409a0ff",
   "metadata": {},
   "outputs": [
    {
     "data": {
      "text/plain": [
       "[0, 2, 4]"
      ]
     },
     "execution_count": 84,
     "metadata": {},
     "output_type": "execute_result"
    }
   ],
   "source": [
    "def capital_indexes (str):\n",
    "    return [str.index(l) for l in str if l.isupper()]\n",
    "\n",
    "capital_indexes(\"HeLlO\")\n"
   ]
  },
  {
   "cell_type": "markdown",
   "id": "6bb3c757-86a5-4ce3-8fcc-747c922406e1",
   "metadata": {},
   "source": [
    "Write a function named mid that takes a string as its parameter. Your function should extract and return the middle letter. If there is no middle letter, your function should return the empty string.\n",
    "For example, mid(\"abc\") should return \"b\" and mid(\"aaaa\") should return \"\"."
   ]
  },
  {
   "cell_type": "code",
   "execution_count": 85,
   "id": "0c57121c-6a94-4133-89b8-57d307fe546e",
   "metadata": {},
   "outputs": [
    {
     "data": {
      "text/plain": [
       "''"
      ]
     },
     "execution_count": 85,
     "metadata": {},
     "output_type": "execute_result"
    }
   ],
   "source": [
    "def mid(str):\n",
    "    for l in str:\n",
    "        if len(str)%2==0:\n",
    "            return \"\"\n",
    "        else:\n",
    "            return str[len(str)//2]\n",
    "mid(\"aaaa\")"
   ]
  },
  {
   "cell_type": "markdown",
   "id": "9d367d66-7cb3-411e-b9f9-1855e1e8c9da",
   "metadata": {},
   "source": [
    "The aim of this challenge is, given a dictionary of people's online status, to count the number of people who are online.\n",
    "For example, consider the following dictionary:\n",
    "statuses = {\n",
    "    \"Alice\": \"online\",\n",
    "    \"Bob\": \"offline\",\n",
    "    \"Eve\": \"online\",\n",
    "}\n",
    "In this case, the number of people online is 2.\n",
    "Write a function named online_count that takes one parameter. The parameter is a dictionary that maps from strings of names to the string \"online\" or \"offline\", as seen above.\n",
    "Your function should return the number of people who are online.\n"
   ]
  },
  {
   "cell_type": "code",
   "execution_count": 83,
   "id": "739d2f30-9153-4982-b863-d08a286837ca",
   "metadata": {},
   "outputs": [
    {
     "data": {
      "text/plain": [
       "2"
      ]
     },
     "execution_count": 83,
     "metadata": {},
     "output_type": "execute_result"
    }
   ],
   "source": [
    "statuses = {\"Alice\": \"online\", \"Bob\": \"offline\", \"Eve\": \"online\",}\n",
    "\n",
    "def online_count(statuses):\n",
    "    count = 0\n",
    "    for x in statuses.values():\n",
    "        if x == 'online':\n",
    "            count += 1             #The plus-equals operator += provides a convenient way to add a value to an existing variable and assign the new value back to the same variable.\n",
    "    return count\n",
    "\n",
    "online_count(statuses)"
   ]
  },
  {
   "cell_type": "markdown",
   "id": "84036d1a-5ed4-41fb-84a8-95d60f7a6905",
   "metadata": {},
   "source": [
    "Define a function, random_number, that takes no parameters. The function must generate a random integer between 1 and 100, both inclusive, and return it.\n",
    "Calling the function multiple times should (usually) return different numbers.\n",
    "For example, calling random_number() sometimes might first return 42, then 63, then 1"
   ]
  },
  {
   "cell_type": "code",
   "execution_count": 87,
   "id": "32661eed-c2ef-4ae5-93d6-772b89f44e35",
   "metadata": {},
   "outputs": [
    {
     "data": {
      "text/plain": [
       "95"
      ]
     },
     "execution_count": 87,
     "metadata": {},
     "output_type": "execute_result"
    }
   ],
   "source": [
    "from random import randint \n",
    "\n",
    "def random_number():\n",
    "    for x in range(100):\n",
    "     value = randint(1, 100)\n",
    "     return(value)\n",
    "\n",
    "random_number()"
   ]
  },
  {
   "cell_type": "markdown",
   "id": "bda9cb33-dd18-4544-a3d9-416b5f7e3db7",
   "metadata": {},
   "source": [
    "Write a function named only_ints that takes two parameters. Your function should return True if both parameters are integers, and False otherwise.\n",
    "For example, calling only_ints(1, 2) should return True, while calling only_ints(\"a\", 1) should return False."
   ]
  },
  {
   "cell_type": "code",
   "execution_count": 88,
   "id": "781c9bf9-9cc2-4444-9dce-0bce26d1107d",
   "metadata": {},
   "outputs": [
    {
     "data": {
      "text/plain": [
       "False"
      ]
     },
     "execution_count": 88,
     "metadata": {},
     "output_type": "execute_result"
    }
   ],
   "source": [
    "def only_ints(x, n):\n",
    "    if type(x) and type(n) == int:\n",
    "        return True \n",
    "    else:\n",
    "        return False\n",
    "\n",
    "only_ints(1,\"a\")"
   ]
  },
  {
   "cell_type": "markdown",
   "id": "0fc931b7-ba1b-4df1-9a20-e8d08e0a8eb7",
   "metadata": {},
   "source": [
    "The goal of this challenge is to analyze a string to check if it contains two of the same letter in a row. For example, the string \"hello\" has l twice in a row, while the string \"nono\" does not have two identical letters in a row.\n",
    "Define a function named double_letters that takes a single parameter. The parameter is a string. Your function must return True if there are two identical letters in a row in the string, and False otherwise."
   ]
  },
  {
   "cell_type": "code",
   "execution_count": 89,
   "id": "0961743d-c7a6-4d1f-83d0-bdfbbbcf02f1",
   "metadata": {},
   "outputs": [
    {
     "data": {
      "text/plain": [
       "False"
      ]
     },
     "execution_count": 89,
     "metadata": {},
     "output_type": "execute_result"
    }
   ],
   "source": [
    "def double_letters(str):\n",
    "    for i in range(len(str)-1):\n",
    "        if str[i] == str[i+1]:\n",
    "            return True \n",
    "    else:\n",
    "        return False \n",
    "\n",
    "\n",
    "double_letters(\"hihi\")"
   ]
  },
  {
   "cell_type": "markdown",
   "id": "df2baa0d-2cea-457d-9868-ef8c2911352c",
   "metadata": {},
   "source": [
    "Write a function named add_dots that takes a string and adds \".\" in between each letter. For example, calling add_dots(\"test\") should return the string \"t.e.s.t\".\n",
    "Then, write another function named remove_dots that removes all dots from a string. For example, calling remove_dots(\"t.e.s.t\") should return \"test\".\n",
    "If both functions are correct, calling remove_dots(add_dots(string)) should return back the original string for any string.\n",
    "(You may assume that the input to add_dots does not itself contain any dots.)"
   ]
  },
  {
   "cell_type": "code",
   "execution_count": 90,
   "id": "130a7441-cc86-4cbf-be4a-36910b67423b",
   "metadata": {},
   "outputs": [
    {
     "data": {
      "text/plain": [
       "'h.e.l.l.o'"
      ]
     },
     "execution_count": 90,
     "metadata": {},
     "output_type": "execute_result"
    }
   ],
   "source": [
    "def add_dots(str):\n",
    "    dots = \".\"\n",
    "    letter = [x for x in str]\n",
    "    return(dots.join(letter))\n",
    "\n",
    "add_dots(\"hello\")"
   ]
  },
  {
   "cell_type": "code",
   "execution_count": 91,
   "id": "685ff55f-e6f3-426d-aa82-05ecd55abbf0",
   "metadata": {},
   "outputs": [
    {
     "data": {
      "text/plain": [
       "'hello'"
      ]
     },
     "execution_count": 91,
     "metadata": {},
     "output_type": "execute_result"
    }
   ],
   "source": [
    "def remove_dots(str):\n",
    "    dots= \".\"\n",
    "    return(''.join([item.replace(dots, '') for item in str]))\n",
    "\n",
    "remove_dots(\"h.e.l.l.o\")"
   ]
  },
  {
   "cell_type": "markdown",
   "id": "2bf2734c-5f3f-4ec6-91ee-cc109ffe35f7",
   "metadata": {},
   "source": [
    "Define a function named count that takes a single parameter. The parameter is a string. The string will contain a single word divided into syllables by hyphens, such as these:\n",
    "\"ho-tel\"\n",
    "\"cat\"\n",
    "\"met-a-phor\"\n",
    "\"ter-min-a-tor\"\n",
    "\n",
    "Your function should count the number of syllables and return it.\n",
    "For example, the call count(\"ho-tel\") should return 2."
   ]
  },
  {
   "cell_type": "code",
   "execution_count": 100,
   "id": "5d0ffb47-48c9-4c0d-8ec7-c4d599d689da",
   "metadata": {},
   "outputs": [
    {
     "data": {
      "text/plain": [
       "4"
      ]
     },
     "execution_count": 100,
     "metadata": {},
     "output_type": "execute_result"
    }
   ],
   "source": [
    "def count(str):\n",
    "    return (str).count(\"-\")+1\n",
    "\n",
    "count(\"ter-min-a-tor\")"
   ]
  },
  {
   "cell_type": "markdown",
   "id": "ca464216-d9ca-4a47-8fd4-822ffcb16aee",
   "metadata": {},
   "source": [
    "Two strings are anagrams if you can make one from the other by rearranging the letters.\n",
    "Write a function named is_anagram that takes two strings as its parameters. Your function should return True if the strings are anagrams, and False otherwise.\n",
    "For example, the call is_anagram(\"typhoon\", \"opython\") should return True while the call is_anagram(\"Alice\", \"Bob\") should return False.\n"
   ]
  },
  {
   "cell_type": "code",
   "execution_count": 103,
   "id": "b95422ec-bbc2-43e0-89f2-982d3cee4117",
   "metadata": {},
   "outputs": [
    {
     "data": {
      "text/plain": [
       "True"
      ]
     },
     "execution_count": 103,
     "metadata": {},
     "output_type": "execute_result"
    }
   ],
   "source": [
    "def is_anagram(str1, str2):\n",
    "        if sorted(str1) == sorted(str2):\n",
    "            return True\n",
    "        else:\n",
    "            return False \n",
    "\n",
    "is_anagram(\"typhoon\", \"opython\")"
   ]
  },
  {
   "cell_type": "markdown",
   "id": "b0cca080-c870-4db9-a698-9cad562058dc",
   "metadata": {},
   "source": [
    "Write a function that takes a list of lists and flattens it into a one-dimensional list.\n",
    "Name your function flatten. It should take a single parameter and return a list.\n",
    "For example, calling:\n",
    "flatten([[1, 2], [3, 4]])\n",
    "Should return the list:\n",
    "[1, 2, 3, 4]\n"
   ]
  },
  {
   "cell_type": "code",
   "execution_count": 11,
   "id": "d88dcf7c-7a4e-4f2d-bca9-e828f57a8131",
   "metadata": {},
   "outputs": [
    {
     "data": {
      "text/plain": [
       "[1, 2, 3, 4, 5, 6]"
      ]
     },
     "execution_count": 11,
     "metadata": {},
     "output_type": "execute_result"
    }
   ],
   "source": [
    "def flatten(l):\n",
    "    flat_list = []\n",
    "    for sublist in l:\n",
    "        for item in sublist:\n",
    "            flat_list.append(item)\n",
    "    return flat_list\n",
    "\n",
    "flatten([[1,2,3],[4,5,6]])"
   ]
  },
  {
   "cell_type": "markdown",
   "id": "be4ecf14-2b0e-4cc6-8fa6-18bca6007b9a",
   "metadata": {},
   "source": [
    "Define a function named largest_difference that takes a list of numbers as its only parameter.\n",
    "Your function should compute and return the difference between the largest and smallest number in the list.\n",
    "For example, the call largest_difference([1, 2, 3]) should return 2 because 3 - 1 is 2.\n",
    "You may assume that no numbers are smaller or larger than -100 and 100.\n"
   ]
  },
  {
   "cell_type": "code",
   "execution_count": 109,
   "id": "9bded2e7-1663-4ff0-8dc7-bea37209f381",
   "metadata": {},
   "outputs": [
    {
     "data": {
      "text/plain": [
       "15"
      ]
     },
     "execution_count": 109,
     "metadata": {},
     "output_type": "execute_result"
    }
   ],
   "source": [
    "def largest_difference(*list):\n",
    "    for n in list:\n",
    "        return (max(n) - min(n))\n",
    "\n",
    "largest_difference([1,2,4,16])"
   ]
  },
  {
   "cell_type": "markdown",
   "id": "69ea555f-d728-4ad2-b35b-6ff3d66482dd",
   "metadata": {},
   "source": [
    "Here's the backstory for this challenge: imagine you're writing a tic-tac-toe game, where the board looks like this:\n",
    "\n",
    "1:  X | O | X\n",
    "   -----------\n",
    "2:    |   |  \n",
    "   -----------\n",
    "3:  O |   |\n",
    "\n",
    "    A   B  C\n",
    "The board is represented as a 2D list:\n",
    "board = [\n",
    "    [\"X\", \"O\", \"X\"],\n",
    "    [\" \", \" \", \" \"],\n",
    "    [\"O\", \" \", \" \"],\n",
    "]\n",
    "Imagine if your user enters \"C1\" and you need to see if there's an X or O in that cell on the board. To do so, you need to translate from the string \"C1\" to row 0 and column 2 so that you can check board[row][column].\n",
    "Your task is to write a function that can translate from strings of length 2 to a tuple (row, column). Name your function get_row_col; it should take a single parameter which is a string of length 2 consisting of an uppercase letter and a digit.\n",
    "For example, calling get_row_col(\"A3\") should return the tuple (2, 0) because A3 corresponds to the row at index 2 and column at index 0 in the board.\n"
   ]
  },
  {
   "cell_type": "code",
   "execution_count": 29,
   "id": "cb606a59-a840-4d0b-b5b6-a76ecc707bdb",
   "metadata": {},
   "outputs": [
    {
     "data": {
      "text/plain": [
       "(1, 1)"
      ]
     },
     "execution_count": 29,
     "metadata": {},
     "output_type": "execute_result"
    }
   ],
   "source": [
    "#turn the tictactoe board into a dictionary\n",
    "\n",
    "def get_row_col(str):\n",
    "    board = {\"A\":0, \"B\":1, \"C\":2}\n",
    "    letter = str[0]\n",
    "    number = str[1]\n",
    "    row = int(number)-1\n",
    "    column = board[letter] \n",
    "    return (row, column)\n",
    "\n",
    "get_row_col(\"B2\")"
   ]
  },
  {
   "cell_type": "markdown",
   "id": "0cad1ffd-bbc7-4dda-9065-2131873e31dd",
   "metadata": {},
   "source": [
    "A string is a palindrome when it is the same when read backwards.\n",
    "For example, the string \"bob\" is a palindrome. So is \"abba\". But the string \"abcd\" is not a palindrome, because \"abcd\" != \"dcba\".\n",
    "Write a function named palindrome that takes a single string as its parameter. Your function should return True if the string is a palindrome, and False otherwise.\n"
   ]
  },
  {
   "cell_type": "code",
   "execution_count": 112,
   "id": "24780f85-ce4d-44a5-8afd-346de019fa3a",
   "metadata": {},
   "outputs": [
    {
     "data": {
      "text/plain": [
       "True"
      ]
     },
     "execution_count": 112,
     "metadata": {},
     "output_type": "execute_result"
    }
   ],
   "source": [
    "def palindrome(str):\n",
    "    if str == ''.join(reversed(str)):\n",
    "        return True\n",
    "    else:\n",
    "        return False \n",
    "\n",
    "palindrome(\"abba\")\n",
    "\n",
    "#check for reverse and see if it's the same as original. if yes, print true. "
   ]
  },
  {
   "cell_type": "code",
   "execution_count": null,
   "id": "47553ca3-c544-47dc-a9c7-41c853ca3409",
   "metadata": {},
   "outputs": [],
   "source": []
  }
 ],
 "metadata": {
  "kernelspec": {
   "display_name": "Python 3 (ipykernel)",
   "language": "python",
   "name": "python3"
  },
  "language_info": {
   "codemirror_mode": {
    "name": "ipython",
    "version": 3
   },
   "file_extension": ".py",
   "mimetype": "text/x-python",
   "name": "python",
   "nbconvert_exporter": "python",
   "pygments_lexer": "ipython3",
   "version": "3.10.11"
  }
 },
 "nbformat": 4,
 "nbformat_minor": 5
}
