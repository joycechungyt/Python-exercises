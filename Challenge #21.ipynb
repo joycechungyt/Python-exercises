{
 "cells": [
  {
   "cell_type": "markdown",
   "id": "84d181b6-81f1-430f-9f68-d71ed792e79b",
   "metadata": {},
   "source": [
    "Given a list of mixed integers of different representations, add up the non-string integers and subtract this from the total of string integers.\n",
    "\n",
    "\n",
    "Example:\n",
    "\n",
    "Input:\n",
    "\n",
    "[1, '2', 3, '4', 5]\n",
    "\n",
    "Output:\n",
    "\n",
    "-3, because:\n",
    "\n",
    "total of non-string integers = 1+3+5 = 9\n",
    "\n",
    "total of string integers = 2+4 = 6\n",
    "\n",
    "total of string integers - total of non-string integers = -3 \n",
    "\n"
   ]
  },
  {
   "cell_type": "code",
   "execution_count": 9,
   "id": "b02820a3-f03b-4587-ab01-a3f95219c04f",
   "metadata": {},
   "outputs": [
    {
     "name": "stdout",
     "output_type": "stream",
     "text": [
      "9\n",
      "6\n",
      "-3\n"
     ]
    }
   ],
   "source": [
    "#identifying non-string integers for a list of [1, '2', 3, '4', 5]\n",
    "list = [1, '2', 3, '4', 5]\n",
    "ans = [x for x in list if not isinstance(x, str)]\n",
    "ans\n",
    "\n",
    "#adding up all of the non-string integers\n",
    "result1 = sum(ans)\n",
    "print(result1)\n",
    "\n",
    "#identifying string integers for a list of [1, '2', 3, '4', 5]\n",
    "ans2 = [x for x in list if not isinstance(x, int)]\n",
    "ans2\n",
    "\n",
    "#adding up all of the string integers\n",
    "result2 = sum(map(int, ans2))\n",
    "print(result2)\n",
    "\n",
    "#Subtract the total of the non-string integers from the total of the string integers.\n",
    "final = result2 - result1\n",
    "print(final)"
   ]
  },
  {
   "cell_type": "code",
   "execution_count": null,
   "id": "6a5d62db-cc46-4215-a7cd-9520fc0e3949",
   "metadata": {},
   "outputs": [],
   "source": []
  }
 ],
 "metadata": {
  "kernelspec": {
   "display_name": "Python 3 (ipykernel)",
   "language": "python",
   "name": "python3"
  },
  "language_info": {
   "codemirror_mode": {
    "name": "ipython",
    "version": 3
   },
   "file_extension": ".py",
   "mimetype": "text/x-python",
   "name": "python",
   "nbconvert_exporter": "python",
   "pygments_lexer": "ipython3",
   "version": "3.10.11"
  }
 },
 "nbformat": 4,
 "nbformat_minor": 5
}
