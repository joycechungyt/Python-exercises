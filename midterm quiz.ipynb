{
 "cells": [
  {
   "cell_type": "code",
   "execution_count": 1,
   "id": "d6c6212f-c8d5-4c49-b7aa-9c648d9a7a05",
   "metadata": {},
   "outputs": [],
   "source": [
    "#midterm quiz "
   ]
  },
  {
   "cell_type": "code",
   "execution_count": 2,
   "id": "c4f156ed-33f8-49e2-8ae9-b12a224fa36f",
   "metadata": {},
   "outputs": [
    {
     "name": "stdout",
     "output_type": "stream",
     "text": [
      "['ad', 'ae', 'af', 'bd', 'be', 'bf', 'cd', 'ce', 'cf']\n"
     ]
    }
   ],
   "source": [
    "#one-liner code\n",
    "print([i+j for i in \"abc\" for j in \"def\"])"
   ]
  },
  {
   "cell_type": "code",
   "execution_count": 9,
   "id": "9527fabf-6c96-4724-8dc8-9aebd3af9059",
   "metadata": {},
   "outputs": [
    {
     "data": {
      "text/plain": [
       "3"
      ]
     },
     "execution_count": 9,
     "metadata": {},
     "output_type": "execute_result"
    }
   ],
   "source": [
    "import re\n",
    "\n",
    "len(re.split(r\"\\d+\", \"You get a 99.9 on the exam.\"))\n",
    "#regular expression d+ \n",
    "#\\d: Matches any digit character (0-9).\n",
    "#+: Matches one or more occurrences of the preceding pattern (in this case, \\d).\n",
    "\n",
    "#The resulting list has three elements: \"You get a \", \".\", and \" on the exam.\"."
   ]
  },
  {
   "cell_type": "code",
   "execution_count": 8,
   "id": "917798d5-1c2e-491a-983d-d3453efc2e22",
   "metadata": {},
   "outputs": [
    {
     "name": "stdout",
     "output_type": "stream",
     "text": [
      "12\n"
     ]
    }
   ],
   "source": [
    "import numpy as np \n",
    "a = np.array([[0, 1, 1], [2, 3, 1]]) \n",
    "#creates the shape 2,3 \n",
    "#(2 rows, 3 columns) \n",
    "#because the nested list contains 2 sublists, and for each sublist there are 3 elements. \n",
    "\n",
    "a += 3 \n",
    "#This line adds 3 to each element of the array a in-place. \n",
    "#After this operation, a becomes [[3, 4, 4], [5, 6, 4]].\n",
    "\n",
    "b = a + 4 \n",
    "#b = a + 4: This line creates a new array b by adding 4 to each element of the array a. \n",
    "#The resulting array b is [[7, 8, 8], [9, 10, 8]].\n",
    "\n",
    "print (a[1,2] + b[1,2])\n",
    "#This line prints the sum of the values at index (1, 2) in arrays a and b.\n",
    "#total of the number in the 2nd column in the first row for a and b respectively\n",
    "#a[1,2] = 4 ; b[1,2] = 8 \n",
    "#total : 12"
   ]
  },
  {
   "cell_type": "code",
   "execution_count": 10,
   "id": "829ed957-cbf7-41e7-af72-bc17770c9f90",
   "metadata": {},
   "outputs": [
    {
     "name": "stdout",
     "output_type": "stream",
     "text": [
      "3\n"
     ]
    }
   ],
   "source": [
    "import numpy as np\n",
    "myarray = np.array([1, 2, 5, 7, 9]) \n",
    "myarray = myarray + 1 \n",
    "print(myarray[1])"
   ]
  },
  {
   "cell_type": "code",
   "execution_count": 11,
   "id": "5b15ec31-1e4c-4dd5-8418-f118daa59c6a",
   "metadata": {},
   "outputs": [
    {
     "data": {
      "text/plain": [
       "[0.25, 16, 64]"
      ]
     },
     "execution_count": 11,
     "metadata": {},
     "output_type": "execute_result"
    }
   ],
   "source": [
    "square = lambda x: x**2\n",
    "cube = lambda x: x**3 \n",
    "inverse = lambda x: 1/x \n",
    "funcs = [inverse, square, cube] \n",
    "list(map( lambda f: f(4) , funcs ))"
   ]
  },
  {
   "cell_type": "code",
   "execution_count": null,
   "id": "a636854c-2b5b-4973-a72d-26ebdf64c445",
   "metadata": {},
   "outputs": [],
   "source": []
  }
 ],
 "metadata": {
  "kernelspec": {
   "display_name": "Python 3 (ipykernel)",
   "language": "python",
   "name": "python3"
  },
  "language_info": {
   "codemirror_mode": {
    "name": "ipython",
    "version": 3
   },
   "file_extension": ".py",
   "mimetype": "text/x-python",
   "name": "python",
   "nbconvert_exporter": "python",
   "pygments_lexer": "ipython3",
   "version": "3.10.11"
  }
 },
 "nbformat": 4,
 "nbformat_minor": 5
}
