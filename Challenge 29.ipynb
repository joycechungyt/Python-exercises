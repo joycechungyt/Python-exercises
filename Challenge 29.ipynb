{
 "cells": [
  {
   "cell_type": "code",
   "execution_count": null,
   "id": "3ecc8e11-3c10-4177-b3ab-cd1679db3207",
   "metadata": {},
   "outputs": [],
   "source": [
    "Create a function that transposes a 2D matrix.\n",
    "\n",
    "Examples\n",
    "\n",
    "transpose_matrix([ [1, 1, 1], [2, 2, 2], [3, 3, 3] ]) ➞ [ [1, 2, 3], [1, 2, 3], [1, 2, 3] ]\n",
    "\n",
    "transpose_matrix([ [5, 5], [6, 7], [9, 1] ]) ➞ [ [5, 6, 9], [5, 7, 1] ]"
   ]
  },
  {
   "cell_type": "code",
   "execution_count": null,
   "id": "54f123da-246b-4829-8b8d-3a6e93c98ed1",
   "metadata": {},
   "outputs": [],
   "source": [
    "# pseudo\n",
    "# what is it doing? \n",
    "\n",
    "# input: takes a 2D matrix which has two layers of []. \n",
    "# takes the first element of each nested[] inside the outer [] and turns it into a new list.\n",
    "# does the same with every other consecutively indexed element in each nested[] until finish.\n",
    "# if one of the nests has a different amount of digits, assume it has a digit of '' and transpose it too.\n",
    "\n",
    "# output the transposed matrix as a 2D matrix, with the transposed lists inside the outer []. \n",
    "\n",
    "# def transpose_matrix([[list1],[list2]...[listn]]):\n",
    "#     new_list1 = list1[0], list2[0]...listn[0] for i in lists\n",
    "#     new_list2 = list1[1], list2[1]...listn[0] for i in lists\n",
    "#     last_list = list1[-1], list2[-1]...listn[-1] for i in lists\n",
    "\n",
    "#     output = [new_list1, new_list2, ... last_list]\n",
    "#     return output "
   ]
  },
  {
   "cell_type": "code",
   "execution_count": 6,
   "id": "a95354e4-3f89-4599-a5aa-ee34989c657a",
   "metadata": {},
   "outputs": [],
   "source": [
    "def transpose_matrix(matrix):\n",
    "    lists = list(zip(*matrix))\n",
    "    new_lists = []\n",
    "    \n",
    "    for sublist in lists:\n",
    "        new_list = [sublist[i] for i in range(len(sublist))]\n",
    "        new_lists.append(new_list)\n",
    "\n",
    "    output = new_lists \n",
    "    return output"
   ]
  },
  {
   "cell_type": "code",
   "execution_count": 7,
   "id": "a5443c8d-d066-4750-aca1-1c0756823202",
   "metadata": {},
   "outputs": [
    {
     "data": {
      "text/plain": [
       "[[1, 2, 3], [1, 2, 3], [1, 2, 3]]"
      ]
     },
     "execution_count": 7,
     "metadata": {},
     "output_type": "execute_result"
    }
   ],
   "source": [
    "transpose_matrix([ [1, 1, 1], [2, 2, 2], [3, 3, 3] ])"
   ]
  },
  {
   "cell_type": "code",
   "execution_count": 8,
   "id": "c363ad87-463d-4ba1-99aa-f53047fd9310",
   "metadata": {},
   "outputs": [
    {
     "data": {
      "text/plain": [
       "[[5, 6, 9], [5, 7, 1]]"
      ]
     },
     "execution_count": 8,
     "metadata": {},
     "output_type": "execute_result"
    }
   ],
   "source": [
    "transpose_matrix([ [5, 5], [6, 7], [9, 1] ])"
   ]
  }
 ],
 "metadata": {
  "kernelspec": {
   "display_name": "Python 3 (ipykernel)",
   "language": "python",
   "name": "python3"
  },
  "language_info": {
   "codemirror_mode": {
    "name": "ipython",
    "version": 3
   },
   "file_extension": ".py",
   "mimetype": "text/x-python",
   "name": "python",
   "nbconvert_exporter": "python",
   "pygments_lexer": "ipython3",
   "version": "3.10.11"
  }
 },
 "nbformat": 4,
 "nbformat_minor": 5
}
