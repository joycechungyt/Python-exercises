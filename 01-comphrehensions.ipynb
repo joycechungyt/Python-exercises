{
 "cells": [
  {
   "cell_type": "markdown",
   "metadata": {
    "id": "9ouiadr4emTG"
   },
   "source": [
    "# List Comprehension"
   ]
  },
  {
   "cell_type": "markdown",
   "metadata": {
    "id": "gq4L6lFVemTI"
   },
   "source": [
    "** 1.) ** Convert the below expression into a list comprehension"
   ]
  },
  {
   "cell_type": "code",
   "execution_count": 1,
   "metadata": {
    "id": "FKwR6BmaemTJ"
   },
   "outputs": [
    {
     "data": {
      "text/plain": [
       "['b', 'b', 'c']"
      ]
     },
     "execution_count": 1,
     "metadata": {},
     "output_type": "execute_result"
    }
   ],
   "source": [
    "empty_list = []\n",
    "for char in \"abc\":\n",
    "    if char == \"a\":\n",
    "        empty_list.append(\"b\")\n",
    "    else:\n",
    "        empty_list.append(char)\n",
    "\n",
    "empty_list"
   ]
  },
  {
   "cell_type": "code",
   "execution_count": 2,
   "metadata": {
    "colab": {
     "base_uri": "https://localhost:8080/"
    },
    "executionInfo": {
     "elapsed": 13,
     "status": "ok",
     "timestamp": 1622708527331,
     "user": {
      "displayName": "Ipsita Mund",
      "photoUrl": "",
      "userId": "03803078247707689792"
     },
     "user_tz": -330
    },
    "id": "V3MR6O1RemTR",
    "outputId": "6a81ecef-d94d-4dd8-9a6c-009f31e8d487"
   },
   "outputs": [
    {
     "data": {
      "text/plain": [
       "['b', 'b', 'c']"
      ]
     },
     "execution_count": 2,
     "metadata": {},
     "output_type": "execute_result"
    }
   ],
   "source": [
    "[ \"b\" if  char==\"a\" else char for char in \"abc\" ] "
   ]
  },
  {
   "cell_type": "markdown",
   "metadata": {
    "id": "QmcZfBM9emTU"
   },
   "source": [
    "** 2.) ** Use a list comprehension to square each odd number in the list and remove each even number. "
   ]
  },
  {
   "cell_type": "code",
   "execution_count": 4,
   "metadata": {
    "executionInfo": {
     "elapsed": 418,
     "status": "ok",
     "timestamp": 1622708615860,
     "user": {
      "displayName": "Ipsita Mund",
      "photoUrl": "",
      "userId": "03803078247707689792"
     },
     "user_tz": -330
    },
    "id": "_w0myZ6bemTW"
   },
   "outputs": [],
   "source": [
    "l =[1,2,3,4,5,6,7,8,9]"
   ]
  },
  {
   "cell_type": "code",
   "execution_count": 8,
   "metadata": {
    "colab": {
     "base_uri": "https://localhost:8080/"
    },
    "executionInfo": {
     "elapsed": 8,
     "status": "ok",
     "timestamp": 1622708618735,
     "user": {
      "displayName": "Ipsita Mund",
      "photoUrl": "",
      "userId": "03803078247707689792"
     },
     "user_tz": -330
    },
    "id": "lNPGHRM0emTZ",
    "outputId": "bca267b0-964f-48ef-c701-56b024393834"
   },
   "outputs": [
    {
     "data": {
      "text/plain": [
       "[1, 9, 25, 49, 81]"
      ]
     },
     "execution_count": 8,
     "metadata": {},
     "output_type": "execute_result"
    }
   ],
   "source": [
    "[num ** 2 for num in l if num % 2 != 0]"
   ]
  },
  {
   "cell_type": "markdown",
   "metadata": {
    "id": "iqYGzCQZemTh"
   },
   "source": [
    "# RNA To Protein"
   ]
  },
  {
   "cell_type": "markdown",
   "metadata": {
    "id": "CLL8TuYEemTi"
   },
   "source": [
    "Write a program that can translate RNA into protein. Every 3 non-overlaping letters (or codon) corresponds to a single letter ( or amino acid)\n",
    "\n",
    "![gentic code](http://science.halleyhosting.com/sci/soph/nucleic/pics/codon.gif)\n",
    "\n",
    "\n",
    "Example Input\n",
    "> AUGGCCAUGGCGCCCAGAACUGAGAUCAAUAGUACCCGUAUUAACGGGUGA\n",
    "\n",
    "Example output\n",
    "> MAMAPRTEINSTRING*\n",
    "\n",
    "You can use the condon table provided."
   ]
  },
  {
   "cell_type": "code",
   "execution_count": 9,
   "metadata": {
    "id": "4xD2Uc5wemTj"
   },
   "outputs": [],
   "source": [
    "string = \"\"\"UUU F      CUU L      AUU I      GUU V\n",
    "UUC F      CUC L      AUC I      GUC V\n",
    "UUA L      CUA L      AUA I      GUA V\n",
    "UUG L      CUG L      AUG M      GUG V\n",
    "UCU S      CCU P      ACU T      GCU A\n",
    "UCC S      CCC P      ACC T      GCC A\n",
    "UCA S      CCA P      ACA T      GCA A\n",
    "UCG S      CCG P      ACG T      GCG A\n",
    "UAU Y      CAU H      AAU N      GAU D\n",
    "UAC Y      CAC H      AAC N      GAC D\n",
    "UAA *      CAA Q      AAA K      GAA E\n",
    "UAG *      CAG Q      AAG K      GAG E\n",
    "UGU C      CGU R      AGU S      GGU G\n",
    "UGC C      CGC R      AGC S      GGC G\n",
    "UGA *      CGA R      AGA R      GGA G\n",
    "UGG W      CGG R      AGG R      GGG G\"\"\"\n",
    "\n",
    "codon_table =  string.split()\n",
    "codon_table = dict(zip(codon_table[0::2], codon_table[1::2]))"
   ]
  },
  {
   "cell_type": "code",
   "execution_count": 10,
   "metadata": {
    "id": "AaSwCHEZemTn"
   },
   "outputs": [],
   "source": [
    "rna = \"AUGGCCAUGGCGCCCAGAACUGAGAUCAAUAGUACCCGUAUUAACGGGUGA\""
   ]
  },
  {
   "cell_type": "code",
   "execution_count": 13,
   "metadata": {},
   "outputs": [
    {
     "name": "stdout",
     "output_type": "stream",
     "text": [
      "MAMAPRTEINSTRING*\n"
     ]
    }
   ],
   "source": [
    "protein = ''.join([codon_table[rna[i:i+3]] for i in range(0, len(rna), 3)])\n",
    "\n",
    "print(protein)"
   ]
  },
  {
   "cell_type": "markdown",
   "metadata": {
    "id": "4mwkl8g2emT0"
   },
   "source": [
    "# Casear Cipher\n",
    "\n",
    "Casears cipher is one of the ealiest known and simplest shift ciphers. Each letter in the plan text is moved by a shift of $ n $ . For example, with a shift of 1, A would be replaced by B, B would become C, and so on.\n",
    "\n",
    "\n",
    "\n",
    "```\n",
    "shift of  1\n",
    "plain text:  defend the east wall of the castle\n",
    "cipher text: efgfoe uif fbtu xbmm pg uif dbtumf\n",
    "\n",
    "shift of 2\n",
    "plain text: abcdefghijklmnopqrstuvwxyz\n",
    "cipher text: cdefghijklmnopqrstuvwxyzab\n",
    "```\n",
    "\n",
    "\n",
    "** 1. ** )  Write two functions, the first should that take text and a key and encrypt that text. The second should take a text and a key and decrypt the text. You can assume that the string is all lowercase. You may find dictionary comphensions useful."
   ]
  },
  {
   "cell_type": "code",
   "execution_count": 15,
   "metadata": {
    "id": "PiMLtKzSemT1"
   },
   "outputs": [],
   "source": [
    "import string\n",
    "#The string module contains a set of useful constants, \n",
    "#such as ascii_letters and digits, \n",
    "#and the module is often still imported for that reason."
   ]
  },
  {
   "cell_type": "code",
   "execution_count": 26,
   "metadata": {
    "id": "L10imM99emT6"
   },
   "outputs": [
    {
     "name": "stdin",
     "output_type": "stream",
     "text": [
      "Please enter Plaintext to Cipher:  hello\n",
      "Please enter the shift:  3\n"
     ]
    },
    {
     "name": "stdout",
     "output_type": "stream",
     "text": [
      "khoor\n"
     ]
    }
   ],
   "source": [
    "from string import ascii_lowercase\n",
    "\n",
    "#encrpyt function\n",
    "first = input(\"Please enter Plaintext to Cipher: \")\n",
    "k = int(input(\"Please enter the shift: \"))\n",
    "shifted_lowercase = ascii_lowercase[k:] + ascii_lowercase[:k]\n",
    "\n",
    "translation_table = str.maketrans(ascii_lowercase, shifted_lowercase)\n",
    "\n",
    "print (first.translate(translation_table))"
   ]
  },
  {
   "cell_type": "code",
   "execution_count": 28,
   "metadata": {},
   "outputs": [
    {
     "name": "stdin",
     "output_type": "stream",
     "text": [
      "Please enter the Ciphertext to Decrypt:  khoor\n",
      "Please enter the shift used for encryption:  3\n"
     ]
    },
    {
     "name": "stdout",
     "output_type": "stream",
     "text": [
      "Decrypted Plaintext: hello\n"
     ]
    }
   ],
   "source": [
    "#decrypt function \n",
    "ciphertext = input(\"Please enter the Ciphertext to Decrypt: \")\n",
    "k = int(input(\"Please enter the shift used for encryption: \"))\n",
    "shifted_lowercase = ascii_lowercase[k:] + ascii_lowercase[:k]\n",
    "\n",
    "translation_table = str.maketrans(shifted_lowercase, ascii_lowercase)\n",
    "\n",
    "plaintext = ciphertext.translate(translation_table)\n",
    "\n",
    "print(\"Decrypted Plaintext:\", plaintext)"
   ]
  },
  {
   "cell_type": "markdown",
   "metadata": {
    "id": "h65mgYlaemUF"
   },
   "source": [
    "** 2. ) ** Can you and encrypt and decrpyt a string when we remove the assumption that all the letters are lowercase?"
   ]
  },
  {
   "cell_type": "code",
   "execution_count": 29,
   "metadata": {
    "id": "p50BPI94emUK"
   },
   "outputs": [
    {
     "name": "stdin",
     "output_type": "stream",
     "text": [
      "Please enter the Plaintext to Encrypt:  HEllo\n",
      "Please enter the shift:  4\n"
     ]
    },
    {
     "name": "stdout",
     "output_type": "stream",
     "text": [
      "Ciphertext: LIpps\n"
     ]
    }
   ],
   "source": [
    "#encrpyt function\n",
    "\n",
    "plaintext = input(\"Please enter the Plaintext to Encrypt: \")\n",
    "k = int(input(\"Please enter the shift: \"))\n",
    "\n",
    "shifted_alphabet = ''\n",
    "for char in plaintext:\n",
    "    if char.islower():\n",
    "        shifted_char = chr((ord(char) - ord('a') + k) % 26 + ord('a'))\n",
    "    elif char.isupper():\n",
    "        shifted_char = chr((ord(char) - ord('A') + k) % 26 + ord('A'))\n",
    "    else:\n",
    "        shifted_char = char\n",
    "    shifted_alphabet += shifted_char\n",
    "\n",
    "print(\"Ciphertext:\", shifted_alphabet)"
   ]
  },
  {
   "cell_type": "code",
   "execution_count": 30,
   "metadata": {},
   "outputs": [
    {
     "name": "stdin",
     "output_type": "stream",
     "text": [
      "Please enter the Ciphertext to Decrypt:  LIpps\n",
      "Please enter the shift used for encryption:  4\n"
     ]
    },
    {
     "name": "stdout",
     "output_type": "stream",
     "text": [
      "Decrypted Plaintext: HEllo\n"
     ]
    }
   ],
   "source": [
    "#decrypt function \n",
    "ciphertext = input(\"Please enter the Ciphertext to Decrypt: \")\n",
    "k = int(input(\"Please enter the shift used for encryption: \"))\n",
    "\n",
    "plaintext = ''\n",
    "for char in ciphertext:\n",
    "    if char.islower():\n",
    "        shifted_char = chr((ord(char) - ord('a') - k) % 26 + ord('a'))\n",
    "    elif char.isupper():\n",
    "        shifted_char = chr((ord(char) - ord('A') - k) % 26 + ord('A'))\n",
    "    else:\n",
    "        shifted_char = char\n",
    "    plaintext += shifted_char\n",
    "\n",
    "print(\"Decrypted Plaintext:\", plaintext)"
   ]
  },
  {
   "cell_type": "code",
   "execution_count": null,
   "metadata": {},
   "outputs": [],
   "source": []
  }
 ],
 "metadata": {
  "colab": {
   "collapsed_sections": [],
   "name": "01-comphrehensions.ipynb",
   "provenance": []
  },
  "kernelspec": {
   "display_name": "Python 3 (ipykernel)",
   "language": "python",
   "name": "python3"
  },
  "language_info": {
   "codemirror_mode": {
    "name": "ipython",
    "version": 3
   },
   "file_extension": ".py",
   "mimetype": "text/x-python",
   "name": "python",
   "nbconvert_exporter": "python",
   "pygments_lexer": "ipython3",
   "version": "3.10.11"
  }
 },
 "nbformat": 4,
 "nbformat_minor": 4
}
