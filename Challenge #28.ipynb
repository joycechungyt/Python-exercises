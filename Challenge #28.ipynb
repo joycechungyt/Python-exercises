{
 "cells": [
  {
   "cell_type": "markdown",
   "id": "d058d355-eb17-4d53-9bec-74eceeb3e966",
   "metadata": {},
   "source": [
    "A semiprime is a composite number that is the product of two primes. Apart from these two primes, its only other proper (non-self) divisor is 1.\n",
    "\n",
    "The two prime factors of a semiprime can be the same number (e.g. the semiprime 49 is the product of 7x7). A semiprime that has two distinct prime factors is called a squarefree semiprime.\n",
    "\n",
    "Create a function that takes a number and returns \"Squarefree Semiprime\", \"Semiprime\", or \"Neither\".\n",
    "\n",
    "Examples\n",
    "\n",
    "semiprime(49) ➞ \"Semiprime\"\n",
    "\n",
    "semiprime(15) ➞ \"Squarefree Semiprime\"\n",
    "\n",
    "semiprime(97) ➞ \"Neither\"\n",
    "\n"
   ]
  },
  {
   "cell_type": "code",
   "execution_count": 238,
   "id": "23d25c61-0948-4401-a18c-eb5b81b3ca79",
   "metadata": {},
   "outputs": [],
   "source": [
    "def semiprime(number):\n",
    "    multiples = []\n",
    "    for i in range(2, int(number ** 0.5) + 1): \n",
    "        if number % i == 0:\n",
    "            multiples.append(i) #searches for factors which are primes  \n",
    "            if i != number // i:\n",
    "                multiples.append(number // i)  #from the primes, we only append unique values\n",
    "\n",
    "    if len(multiples) == 1:\n",
    "            return \"Semiprime\", len(multiples), multiples\n",
    "    if len(multiples) == 2:\n",
    "            return \"Squarefree Semiprime\", len(multiples), multiples\n",
    "    else:\n",
    "        return \"Neither\", len(multiples), multiples\n",
    "\n",
    "    # return len(unique_factors)"
   ]
  },
  {
   "cell_type": "code",
   "execution_count": 239,
   "id": "89d47d3a-c550-430f-8163-e8e6f4df8f15",
   "metadata": {},
   "outputs": [
    {
     "data": {
      "text/plain": [
       "('Semiprime', 1, [7])"
      ]
     },
     "execution_count": 239,
     "metadata": {},
     "output_type": "execute_result"
    }
   ],
   "source": [
    "semiprime(49)"
   ]
  },
  {
   "cell_type": "code",
   "execution_count": 240,
   "id": "b4013f3e-b42a-4164-8b84-69258bd2c08e",
   "metadata": {},
   "outputs": [
    {
     "data": {
      "text/plain": [
       "('Squarefree Semiprime', 2, [3, 5])"
      ]
     },
     "execution_count": 240,
     "metadata": {},
     "output_type": "execute_result"
    }
   ],
   "source": [
    "semiprime(15) "
   ]
  },
  {
   "cell_type": "code",
   "execution_count": 241,
   "id": "f10b4c8f-b453-4b3c-a855-d2b148b53124",
   "metadata": {},
   "outputs": [
    {
     "name": "stdout",
     "output_type": "stream",
     "text": [
      "('Neither', 0, [])\n"
     ]
    }
   ],
   "source": [
    "print(semiprime(97))"
   ]
  }
 ],
 "metadata": {
  "kernelspec": {
   "display_name": "Python 3 (ipykernel)",
   "language": "python",
   "name": "python3"
  },
  "language_info": {
   "codemirror_mode": {
    "name": "ipython",
    "version": 3
   },
   "file_extension": ".py",
   "mimetype": "text/x-python",
   "name": "python",
   "nbconvert_exporter": "python",
   "pygments_lexer": "ipython3",
   "version": "3.10.11"
  }
 },
 "nbformat": 4,
 "nbformat_minor": 5
}
