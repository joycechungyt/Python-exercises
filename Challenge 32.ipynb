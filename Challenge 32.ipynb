{
 "cells": [
  {
   "cell_type": "markdown",
   "id": "66b813f4-1b45-41b4-bfb6-b93d88c1b951",
   "metadata": {},
   "source": [
    "Write a function that replaces each integer with the next largest in the list.\n",
    "\n",
    "Examples\n",
    "\n",
    "replace_next_largest([5, 7, 3, 2, 8]) ➞ [7, 8, 5, 3, -1]\n",
    "\n",
    "replace_next_largest([2, 3, 4, 5]) ➞ [3, 4, 5, -1]\n",
    "\n",
    "replace_next_largest([1, 0, -1, 8, -72]) ➞ [8, 1, 0, -1, -1]"
   ]
  },
  {
   "cell_type": "code",
   "execution_count": 74,
   "id": "84af1436-5c9f-4685-8a5d-57ac196a9453",
   "metadata": {},
   "outputs": [],
   "source": [
    "def replace_next_largest(lst):\n",
    "    sorted_lst = sorted(lst)  # Sort the list in ascending order\n",
    "    next_largest = {num: sorted_lst[i+1] if i+1 < len(sorted_lst) else -1 for i, num in enumerate(sorted_lst)}\n",
    "    # Create a dictionary where each number is mapped to the next largest number\n",
    "\n",
    "    return [next_largest[num] for num in lst]  # Replace each number in the list with the next largest value"
   ]
  },
  {
   "cell_type": "code",
   "execution_count": 75,
   "id": "e1f97f6f-285f-47e4-bbac-2aeca886e140",
   "metadata": {},
   "outputs": [],
   "source": [
    "# pseudocode\n",
    "# smallest number in the original list is in last place and is converted to -1\n",
    "# every other number becomes the next largest number in the list, they keep their original positions. \n",
    "\n",
    "#sort the list\n",
    "#pair the numbers with the next largest in a dictionary\n",
    "#replace the items in the list. greatest value won't have an entry, replace it with -1"
   ]
  },
  {
   "cell_type": "code",
   "execution_count": 76,
   "id": "c0ab38d0-043d-4957-82c0-53d514c016bd",
   "metadata": {},
   "outputs": [
    {
     "data": {
      "text/plain": [
       "[7, 8, 5, 3, -1]"
      ]
     },
     "execution_count": 76,
     "metadata": {},
     "output_type": "execute_result"
    }
   ],
   "source": [
    "replace_next_largest([5, 7, 3, 2, 8])"
   ]
  }
 ],
 "metadata": {
  "kernelspec": {
   "display_name": "Python 3 (ipykernel)",
   "language": "python",
   "name": "python3"
  },
  "language_info": {
   "codemirror_mode": {
    "name": "ipython",
    "version": 3
   },
   "file_extension": ".py",
   "mimetype": "text/x-python",
   "name": "python",
   "nbconvert_exporter": "python",
   "pygments_lexer": "ipython3",
   "version": "3.10.11"
  }
 },
 "nbformat": 4,
 "nbformat_minor": 5
}
