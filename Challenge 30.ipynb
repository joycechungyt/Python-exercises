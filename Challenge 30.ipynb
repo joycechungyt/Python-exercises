{
 "cells": [
  {
   "cell_type": "markdown",
   "id": "27349b46-b0f1-427f-9446-b8b33e4564f0",
   "metadata": {},
   "source": [
    "Given an integer, create a function that returns the next prime. If the number is prime, return the number itself.\n",
    "\n",
    "Examples\n",
    "\n",
    "next_prime(12) ➞ 13\n",
    "\n",
    "next_prime(24) ➞ 29\n",
    "\n",
    "next_prime(11) ➞ 11\n",
    "\n",
    "11 is a prime, so we return the number itself."
   ]
  },
  {
   "cell_type": "code",
   "execution_count": 20,
   "id": "6b532a72-fde5-4770-94c7-7ac1700a4dfe",
   "metadata": {},
   "outputs": [],
   "source": [
    "def next_prime(n):\n",
    "    np = []\n",
    "    isprime = []\n",
    "    for i in range(n, n + 200):\n",
    "        np.append(i)\n",
    "    for j in np:\n",
    "        val_is_prime = True\n",
    "        for x in range(2, j):\n",
    "            if j % x == 0:\n",
    "                val_is_prime = False\n",
    "                break\n",
    "        if val_is_prime:\n",
    "            isprime.append(j)\n",
    "    if len(isprime) > 0:\n",
    "        return min(isprime)\n",
    "    else:\n",
    "        return n\n"
   ]
  },
  {
   "cell_type": "code",
   "execution_count": 21,
   "id": "81512ad2-060f-42ea-bf8d-4c9ac33527d0",
   "metadata": {},
   "outputs": [
    {
     "data": {
      "text/plain": [
       "13"
      ]
     },
     "execution_count": 21,
     "metadata": {},
     "output_type": "execute_result"
    }
   ],
   "source": [
    "next_prime(12) "
   ]
  },
  {
   "cell_type": "code",
   "execution_count": 22,
   "id": "777e6cd0-8a17-482d-a757-44705b018588",
   "metadata": {},
   "outputs": [
    {
     "data": {
      "text/plain": [
       "29"
      ]
     },
     "execution_count": 22,
     "metadata": {},
     "output_type": "execute_result"
    }
   ],
   "source": [
    "next_prime(24) "
   ]
  },
  {
   "cell_type": "code",
   "execution_count": 23,
   "id": "0e73707e-9477-44ab-ad56-a2f5910f82ad",
   "metadata": {},
   "outputs": [
    {
     "data": {
      "text/plain": [
       "11"
      ]
     },
     "execution_count": 23,
     "metadata": {},
     "output_type": "execute_result"
    }
   ],
   "source": [
    "next_prime(11) "
   ]
  }
 ],
 "metadata": {
  "kernelspec": {
   "display_name": "Python 3 (ipykernel)",
   "language": "python",
   "name": "python3"
  },
  "language_info": {
   "codemirror_mode": {
    "name": "ipython",
    "version": 3
   },
   "file_extension": ".py",
   "mimetype": "text/x-python",
   "name": "python",
   "nbconvert_exporter": "python",
   "pygments_lexer": "ipython3",
   "version": "3.10.11"
  }
 },
 "nbformat": 4,
 "nbformat_minor": 5
}
