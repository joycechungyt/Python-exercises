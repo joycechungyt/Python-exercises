{
 "cells": [
  {
   "cell_type": "markdown",
   "id": "4dafa8f3-0017-4ccb-889b-25f8915301e3",
   "metadata": {},
   "source": [
    "Given a number, return the difference between the maximum and minimum numbers that can be formed when the digits are rearranged."
   ]
  },
  {
   "cell_type": "code",
   "execution_count": 5,
   "id": "0700091f-ef48-41ac-b958-ea3bebba6a66",
   "metadata": {},
   "outputs": [
    {
     "name": "stdout",
     "output_type": "stream",
     "text": [
      "4176\n"
     ]
    }
   ],
   "source": [
    "def min_max_diff(n):\n",
    "    temp = []\n",
    "    for e in str(n):\n",
    "        temp.append(e)\n",
    "        max_num = \"\".join(sorted(temp)[::-1])\n",
    "        min_num = \"\".join(sorted(temp))        \n",
    "    return int(max_num) - int(min_num)\n",
    "                                      \n",
    "n = 1254\n",
    "output = min_max_diff(n)\n",
    "print(output)"
   ]
  }
 ],
 "metadata": {
  "kernelspec": {
   "display_name": "Python 3 (ipykernel)",
   "language": "python",
   "name": "python3"
  },
  "language_info": {
   "codemirror_mode": {
    "name": "ipython",
    "version": 3
   },
   "file_extension": ".py",
   "mimetype": "text/x-python",
   "name": "python",
   "nbconvert_exporter": "python",
   "pygments_lexer": "ipython3",
   "version": "3.10.11"
  }
 },
 "nbformat": 4,
 "nbformat_minor": 5
}
