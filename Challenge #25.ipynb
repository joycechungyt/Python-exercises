{
 "cells": [
  {
   "cell_type": "markdown",
   "id": "36e94e2e-a322-40cd-b490-ee9806378ce9",
   "metadata": {},
   "source": [
    "Create a function that takes a list and returns a new list containing only prime numbers.\n",
    "\n",
    "Examples\n",
    "\n",
    "filter_primes([7, 9, 3, 9, 10, 11, 27]) ➞ [7, 3, 11]\n",
    "\n",
    "filter_primes([10007, 1009, 1007, 27, 147, 77, 1001, 70]) ➞ [10007, 1009]\n",
    "\n",
    "filter_primes([1009, 10, 10, 10, 3, 33, 9, 4, 1, 61, 63, 69, 1087, 1091, 1093, 1097]) ➞ [1009, 3, 61, 1087, 1091, 1093, 1097]\n",
    "\n"
   ]
  },
  {
   "cell_type": "code",
   "execution_count": 10,
   "id": "a63da8e2-25a6-4bbd-834b-97612e5464b7",
   "metadata": {},
   "outputs": [
    {
     "name": "stdout",
     "output_type": "stream",
     "text": [
      "[1009, 3, 61, 1087, 1091, 1093, 1097]\n"
     ]
    }
   ],
   "source": [
    "my_list = [1009, 10, 10, 10, 3, 33, 9, 4, 1, 61, 63, 69, 1087, 1091, 1093, 1097]\n",
    "\n",
    "#a whole number greater than 1 \n",
    "#that cannot be exactly divided by any whole number other than itself and 1 \n",
    "\n",
    "def filter_primes(list):\n",
    "    out_list = []\n",
    "    for num in list:\n",
    "        if num > 1:\n",
    "            for i in range(2, int(num**0.5)+1):\n",
    "                if (num % i) == 0:\n",
    "                    break\n",
    "            else:\n",
    "                out_list.append(num) \n",
    "    return out_list\n",
    "\n",
    "print(filter_primes(my_list))"
   ]
  },
  {
   "cell_type": "code",
   "execution_count": 11,
   "id": "596c218e-3e6c-41c9-b476-3e4e41b15b10",
   "metadata": {},
   "outputs": [],
   "source": [
    "#original pseudocode:\n",
    "#for every num in the list\n",
    "#check for non prime : divisible by 2 up to the (nonprime-1) range. so the modulus is 0\n",
    "#we are looking for prime \n",
    "#if it's prime, append to empty list\n",
    "#after going through all nums in list, output list \n",
    "\n",
    "#faster way to check for non-prime :  how large could the smallest divisor be?\n",
    "#if we don't find a divisor of n after checking up to square root of n, then n must be prime.\n",
    "\n",
    "#optimised psuedocode:\n",
    "#for every num in the list\n",
    "#check if divisible by 2 up to sqrt (power of 0.5) of n range. \n",
    "#if the modulus is 0 (aka not-prime), break loop\n",
    "#else, append to empty list\n",
    "#after going through all nums in list, output list "
   ]
  }
 ],
 "metadata": {
  "kernelspec": {
   "display_name": "Python 3 (ipykernel)",
   "language": "python",
   "name": "python3"
  },
  "language_info": {
   "codemirror_mode": {
    "name": "ipython",
    "version": 3
   },
   "file_extension": ".py",
   "mimetype": "text/x-python",
   "name": "python",
   "nbconvert_exporter": "python",
   "pygments_lexer": "ipython3",
   "version": "3.10.11"
  }
 },
 "nbformat": 4,
 "nbformat_minor": 5
}
