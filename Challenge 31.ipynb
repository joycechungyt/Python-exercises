{
 "cells": [
  {
   "cell_type": "markdown",
   "id": "792b295f-18bc-4707-bba7-2f23913bc7d8",
   "metadata": {},
   "source": [
    "An anagram is a word, x, formed by rearranging the letters that make up another word, y, and using up all the letters in y at the same frequency. For example, \"dear\" is an anagram of \"read\" and \"plead\" is an anagram of \"paled\".\n",
    "\n",
    "The Hamming distance between two strings is the number of positions at which they differ. Hamming distances can only be calculated for strings of equal length.\n",
    "\n",
    "s1 = \"eleven\"\n",
    "\n",
    "s2 = \"twelve\"\n",
    "\n",
    "They only have the third position (index 2) in common, giving them a Hamming distance of 5.\n",
    "\n",
    "As anagrams are of identical length, the Hamming distance between them can be calculated.\n",
    "\n",
    "s1 = \"read\"\n",
    "\n",
    "s2 = \"dear\"\n",
    "\n",
    "These strings differ at the first and last positions, giving them a Hamming distance of 2. \"Plead\" and \"paled\" have a Hamming distance of 3.\n",
    "\n",
    "Create a function that takes two strings, and returns:\n",
    "\n",
    "True if they are anagrams of each other and their Hamming distance is equal to their length (i.e. no letters in the same positions).\n",
    "\n",
    "False if they aren't anagrams, or Their Hamming distance if they are anagrams with >=1 letter at the same index. Examples\n",
    "\n",
    "max_ham(\"dear\", \"read\") ➞ 2\n",
    "\n",
    "max_ham(\"dare\", \"read\") ➞ True\n",
    "\n",
    "max_ham(\"solemn\", \"molest\") ➞ False\n",
    "\n"
   ]
  },
  {
   "cell_type": "code",
   "execution_count": 14,
   "id": "97842397-76a7-4ef1-b061-9c7ad1b3cd56",
   "metadata": {},
   "outputs": [],
   "source": [
    "def max_ham(a,b):\n",
    "    if len(a) !=len(b):\n",
    "        return False\n",
    "    ham = 0\n",
    "    for i in range(len(a)):\n",
    "        if a[i] != b[i]:\n",
    "            ham += 1\n",
    "    if sorted(a) == sorted(b) and ham == len(a):\n",
    "        return True, ham\n",
    "    else:\n",
    "        return False, ham"
   ]
  },
  {
   "cell_type": "code",
   "execution_count": 15,
   "id": "babc877b-7966-4d2c-8466-49d98fe59098",
   "metadata": {},
   "outputs": [
    {
     "data": {
      "text/plain": [
       "(False, 2)"
      ]
     },
     "execution_count": 15,
     "metadata": {},
     "output_type": "execute_result"
    }
   ],
   "source": [
    "max_ham(\"dear\", \"read\")"
   ]
  },
  {
   "cell_type": "code",
   "execution_count": 16,
   "id": "94eb2fc5-5976-4427-903b-84d0bffe79a9",
   "metadata": {},
   "outputs": [
    {
     "data": {
      "text/plain": [
       "(True, 4)"
      ]
     },
     "execution_count": 16,
     "metadata": {},
     "output_type": "execute_result"
    }
   ],
   "source": [
    "max_ham(\"dare\", \"read\") "
   ]
  },
  {
   "cell_type": "code",
   "execution_count": 17,
   "id": "3e6238a7-bc5a-4395-b022-a9937a4eb216",
   "metadata": {},
   "outputs": [
    {
     "data": {
      "text/plain": [
       "(False, 3)"
      ]
     },
     "execution_count": 17,
     "metadata": {},
     "output_type": "execute_result"
    }
   ],
   "source": [
    "max_ham(\"solemn\", \"molest\") "
   ]
  }
 ],
 "metadata": {
  "kernelspec": {
   "display_name": "Python 3 (ipykernel)",
   "language": "python",
   "name": "python3"
  },
  "language_info": {
   "codemirror_mode": {
    "name": "ipython",
    "version": 3
   },
   "file_extension": ".py",
   "mimetype": "text/x-python",
   "name": "python",
   "nbconvert_exporter": "python",
   "pygments_lexer": "ipython3",
   "version": "3.10.11"
  }
 },
 "nbformat": 4,
 "nbformat_minor": 5
}
