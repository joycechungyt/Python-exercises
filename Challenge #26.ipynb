{
 "cells": [
  {
   "cell_type": "markdown",
   "id": "f2ba2b46-509f-47d6-b03d-75152520275b",
   "metadata": {},
   "source": [
    "Mona has created a method to sort a list in ascending order.\n",
    "\n",
    "Starting from the left of the list, she compares numbers by pairs. If the first pair is ordered [smaller number, larger number], she moves on. If the first pair is ordered [larger number, smaller number], she swaps the two integers before moving on to the next pair. She repeats this process until she reaches the end of the list.\n",
    "\n",
    "Then, she moves back to the beginning of the list and repeats this process until the entire list is sorted.\n",
    "\n",
    "If the unsorted list is: [3, 9, 7, 4], she will perform the following steps (note Swaps here refer to cumulative swaps):\n",
    "\n",
    "She starts with the first pair. [3, 9] is in order, move on. List: [3, 9, 7, 4]. Swaps: 0. [9, 7] is not. Swap. List: [3, 7, 9, 4]. Swaps: 1 [9, 4] is not. Swap. List: [3, 7, 4, 9]. Swaps: 2 Check if list is sorted. It is not, so start over at first pair. [3, 7] is in order, move on. List: [3, 7, 4, 9]. Swaps: 2 [7, 4] is not. Swap. List: [3, 4, 7, 9]. Swaps: 3. [7, 9] is in order, move on. List: [3, 4, 7, 9]. Swaps: 3. Check if list is sorted. It is. End. Sorting the list [3, 9, 7, 4] takes her 3 swaps. Write a function that takes in an unsorted list and returns the number of swaps it takes for the list to be sorted according to Mona's algorithm.\n",
    "\n",
    "\n",
    "\n",
    "Examples\n",
    "\n",
    "number_of_swaps([5, 4, 3]) ➞ 3\n",
    "\n",
    "number_of_swaps([1, 3, 4, 5]) ➞ 0\n",
    "\n",
    "number_of_swaps([5, 4, 3, 2]) ➞ 6\n",
    "\n"
   ]
  },
  {
   "cell_type": "code",
   "execution_count": 18,
   "id": "430ba2d4-9b7b-4ad5-81bf-1c505786da9d",
   "metadata": {},
   "outputs": [
    {
     "name": "stdout",
     "output_type": "stream",
     "text": [
      "6\n"
     ]
    }
   ],
   "source": [
    "List = [5, 4, 3, 2]\n",
    "\n",
    "def monas_list(List):\n",
    "    swaps = 0 \n",
    "    while True:\n",
    "        swapped = False\n",
    "        for i in range(len(List)-1):\n",
    "            if List[i] > List[i + 1]:\n",
    "                List[i], List[i + 1] = List[i + 1], List[i]\n",
    "                swaps += 1\n",
    "                swapped = True\n",
    "        if not swapped:\n",
    "            break\n",
    "    return swaps \n",
    "\n",
    "total_swaps = monas_list(List)\n",
    "print(total_swaps)"
   ]
  },
  {
   "cell_type": "markdown",
   "id": "8007b717-b6b3-4165-a368-dd749616186e",
   "metadata": {},
   "source": [
    "#process of sorting 5432\n",
    "1. 4,5 -> 4532\n",
    "2. 5,3-> 4352\n",
    "3. 5,2-> 4325\n",
    "are all the numbers in ascending? no - repeat.\n",
    "4. 4,3 -> 3425\n",
    "5. 4,2 -> 3245\n",
    "4,5 -> sorted\n",
    "are all the numbers in ascending? no - repeat.\n",
    "6. 3,2 -> 2,3,4,5\n",
    "3,4 -> sorted\n",
    "4,5 -> sorted\n",
    "are all the numbers in ascending? yes\n",
    "END "
   ]
  },
  {
   "cell_type": "code",
   "execution_count": null,
   "id": "30af80aa-a9ab-413d-951a-7534575bed3f",
   "metadata": {},
   "outputs": [],
   "source": []
  }
 ],
 "metadata": {
  "kernelspec": {
   "display_name": "Python 3 (ipykernel)",
   "language": "python",
   "name": "python3"
  },
  "language_info": {
   "codemirror_mode": {
    "name": "ipython",
    "version": 3
   },
   "file_extension": ".py",
   "mimetype": "text/x-python",
   "name": "python",
   "nbconvert_exporter": "python",
   "pygments_lexer": "ipython3",
   "version": "3.10.11"
  }
 },
 "nbformat": 4,
 "nbformat_minor": 5
}
