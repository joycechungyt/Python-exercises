{
 "cells": [
  {
   "cell_type": "markdown",
   "id": "7eedf157-2c92-4e9d-b737-f0d812797101",
   "metadata": {},
   "source": [
    "Given an input integer x, return a list of integers in which the sum is equal to x. \n",
    "\n",
    "The integers inside the list must consist of values that are a power of 3. \n",
    "\n",
    "For example:\n",
    "\n",
    "1 is a possible number of the list because of 3^0 => 1\n",
    "\n",
    "3 is also a possible number of the list because 3^1 => 3\n",
    "\n",
    "and so on.\n",
    "\n",
    "\n",
    "\n",
    "Example:\n",
    "\n",
    "Input: \n",
    "\n",
    "4\n",
    "\n",
    "\n",
    "\n",
    "Output:\n",
    "\n",
    "[1, 3]\n",
    "\n",
    "Because 1 +3 = 4 \n",
    "\n",
    "And 3^0 => 1 and 3^1 => 3\n",
    "\n",
    "\n",
    "\n",
    "Invalid output:\n",
    "\n",
    "[2, 2]\n",
    "\n",
    "Even though 2 + 2 = 4, \n",
    "\n",
    "2 is not a power of 3. \n",
    "\n",
    "Therefore, 2 is an invalid output in the list."
   ]
  },
  {
   "cell_type": "code",
   "execution_count": 14,
   "id": "60d367c4-9734-4f42-a674-e5ef71ae8693",
   "metadata": {},
   "outputs": [
    {
     "name": "stdout",
     "output_type": "stream",
     "text": [
      "[1, 3]\n"
     ]
    }
   ],
   "source": [
    "from itertools import combinations, chain\n",
    "\n",
    "def find_power_of_3_combinations(target):\n",
    "    powers_of_3 = []\n",
    "    exp = 0\n",
    "    while sum(powers_of_3) < target:\n",
    "        powers_of_3.append(3 ** exp)\n",
    "        exp += 1\n",
    "\n",
    "    power_combinations = []\n",
    "    for r in range(1, len(powers_of_3) + 1):\n",
    "        combinations_list = list(combinations(powers_of_3, r))\n",
    "        for item in combinations_list:\n",
    "            if sum(item) == target:\n",
    "                power_combinations.append(list(item))\n",
    "    return list(chain.from_iterable(power_combinations))\n",
    "\n",
    "x = 4\n",
    "output = find_power_of_3_combinations(x)\n",
    "print(output)"
   ]
  }
 ],
 "metadata": {
  "kernelspec": {
   "display_name": "Python 3 (ipykernel)",
   "language": "python",
   "name": "python3"
  },
  "language_info": {
   "codemirror_mode": {
    "name": "ipython",
    "version": 3
   },
   "file_extension": ".py",
   "mimetype": "text/x-python",
   "name": "python",
   "nbconvert_exporter": "python",
   "pygments_lexer": "ipython3",
   "version": "3.10.11"
  }
 },
 "nbformat": 4,
 "nbformat_minor": 5
}
