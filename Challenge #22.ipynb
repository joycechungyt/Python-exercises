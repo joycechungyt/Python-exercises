{
 "cells": [
  {
   "cell_type": "markdown",
   "id": "69df130a-6b18-4494-85e4-49c0b3daf0bd",
   "metadata": {},
   "source": [
    "Given a string of decimal digits, output an integer of its binary representation like below:\n",
    "\n",
    "\n",
    "\n",
    "Example:\n",
    "\n",
    "Input: \"2973\"\n",
    "\n",
    "\"2\" => 10\n",
    "\n",
    "\"9\" => 1001\n",
    "\n",
    "\"7\" => 111\n",
    "\n",
    "\"3\" => 11\n",
    "\n",
    "Therefore output is 10100111111, because of 10+1001+111+11.\n",
    "\n"
   ]
  },
  {
   "cell_type": "code",
   "execution_count": 27,
   "id": "dcda63f3-44db-447a-8763-404fea789311",
   "metadata": {},
   "outputs": [
    {
     "data": {
      "text/plain": [
       "10100111111"
      ]
     },
     "execution_count": 27,
     "metadata": {},
     "output_type": "execute_result"
    }
   ],
   "source": [
    "#identify the binary representations of each digit in the input \n",
    "input = \"2973\"\n",
    "\n",
    "input_list = list(map(int, input))\n",
    "output = ''.join(map(lambda x: bin(x)[2:], input_list))\n",
    "#[2:] is removing the first 2 chars in each binary str\n",
    "output_int = int(output)\n",
    "\n",
    "#print the combined binary representations of each digit in the output\n",
    "output_int"
   ]
  }
 ],
 "metadata": {
  "kernelspec": {
   "display_name": "Python 3 (ipykernel)",
   "language": "python",
   "name": "python3"
  },
  "language_info": {
   "codemirror_mode": {
    "name": "ipython",
    "version": 3
   },
   "file_extension": ".py",
   "mimetype": "text/x-python",
   "name": "python",
   "nbconvert_exporter": "python",
   "pygments_lexer": "ipython3",
   "version": "3.10.11"
  }
 },
 "nbformat": 4,
 "nbformat_minor": 5
}
