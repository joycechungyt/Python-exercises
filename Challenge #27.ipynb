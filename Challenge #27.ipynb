{
 "cells": [
  {
   "cell_type": "markdown",
   "id": "2dca0637-d216-43ef-b45a-c1b6bf38591a",
   "metadata": {},
   "source": [
    "A string is an almost-palindrome if, by changing only one character, you can make it a palindrome. Create a function that returns True if a string is an almost-palindrome and False otherwise.\n",
    "\n",
    "\n",
    "\n",
    "Examples\n",
    "\n",
    "- almost_palindrome(\"abcdcbg\") ➞ True\n",
    "  \n",
    "Transformed to \"abcdcba\" by changing \"g\" to \"a\".\n",
    "\n",
    "- almost_palindrome(\"abccia\") ➞ True\n",
    "  \n",
    "Transformed to \"abccba\" by changing \"b\" to \"a\".\n",
    "\n",
    "- almost_palindrome(\"abcdaaa\") ➞ False\n",
    "  \n",
    "Can't be transformed to a palindrome in exactly 1 turn.\n",
    "\n",
    "- almost_palindrome(\"1234312\") ➞ False\n"
   ]
  },
  {
   "cell_type": "code",
   "execution_count": 20,
   "id": "0a04670a-9392-497a-89e2-1f821e5205f7",
   "metadata": {},
   "outputs": [
    {
     "name": "stdout",
     "output_type": "stream",
     "text": [
      "True\n"
     ]
    }
   ],
   "source": [
    "def almost_palindrome(string):\n",
    "    changes = 0 \n",
    "    middle_index = len(string) // 2\n",
    "    current_index = middle_index\n",
    "\n",
    "    if len(string) % 2 == 0:\n",
    "        current_index -= 1\n",
    "\n",
    "    while current_index >= 0:\n",
    "        current_value = string[current_index]\n",
    "        next_value = string[-(current_index + 1)]\n",
    "\n",
    "        if current_value == next_value:\n",
    "            current_index -= 1\n",
    "            continue\n",
    "        else:\n",
    "            changes += 1\n",
    "            current_index -= 1\n",
    "\n",
    "        if changes > 1:\n",
    "            return False  # Return False if changes exceed 1\n",
    "\n",
    "    return True  # Return True if changes do not exceed 1\n",
    "\n",
    "print(almost_palindrome(\"1234312\"))  # False"
   ]
  },
  {
   "cell_type": "code",
   "execution_count": null,
   "id": "b853cbb8-e742-4597-a318-274ad7310bc5",
   "metadata": {},
   "outputs": [],
   "source": []
  }
 ],
 "metadata": {
  "kernelspec": {
   "display_name": "Python 3 (ipykernel)",
   "language": "python",
   "name": "python3"
  },
  "language_info": {
   "codemirror_mode": {
    "name": "ipython",
    "version": 3
   },
   "file_extension": ".py",
   "mimetype": "text/x-python",
   "name": "python",
   "nbconvert_exporter": "python",
   "pygments_lexer": "ipython3",
   "version": "3.10.11"
  }
 },
 "nbformat": 4,
 "nbformat_minor": 5
}
